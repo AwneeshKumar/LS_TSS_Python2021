{
 "cells": [
  {
   "cell_type": "code",
   "execution_count": 1,
   "metadata": {},
   "outputs": [],
   "source": [
    "File = open(\"HarryPotterAndTheSorcerersStone.txt\",'r')     #This helps in opening the file which is to be read"
   ]
  },
  {
   "cell_type": "code",
   "execution_count": 2,
   "metadata": {
    "scrolled": true
   },
   "outputs": [],
   "source": [
    "DictionaryOfWords = {}         #Dictionary mapping every word to a list (of indices of the words' occurences)\n",
    "Novel = []                     #List of all words in the order, in which they appear!\n",
    "\n",
    "\n",
    "\n",
    "i = 0                   #Counter Variable to keep track of index of words\n",
    "\n",
    "for line in File.readlines():     #Iterate over all lines present in the text\n",
    "    \n",
    "    #Look at Python's Conciseness!\n",
    "    \n",
    "    line = line.replace(\".\",\"\").replace(\",\",\"\").replace('?','').replace('!','').replace('[','').replace(']','')\\\n",
    "    .replace('(','').replace(')','').replace('%','').replace('/','')\n",
    "      \n",
    "    #COMPLETE THE CODE FROM HERE:\n",
    "    \n",
    "    #This would split the line into many different words, and iterate over these words\n",
    "    #DictionaryOfWords = {}\n",
    "    for word in line.split(' '):\n",
    "                                                                         \n",
    "        if word in DictionaryOfWords.keys():     #If the word is already present in the dictionary\n",
    "                                                                             \n",
    "            DictionaryOfWords[word] += 1       #Add the index into the pre-existing list for this word\n",
    "                                                                             \n",
    "        else:\n",
    "            DictionaryOfWords[word] = 1        #Create a new list of indices for this word, with a single element\n",
    "    for key in DictionaryOfWords:\n",
    "        #print(key,':',DictionaryOfWords[key])\n",
    "                                                                             \n",
    "        \n",
    "        Novel.append(DictionaryOfWords[key])        #Add the Word in the Novel's ordered list of words\n",
    "                                                                             \n",
    "        i+=1\n"
   ]
  },
  {
   "cell_type": "markdown",
   "metadata": {},
   "source": [
    "Now that you've done that, We have the words in the novel alongwith where they appeared in the text loaded into memory (Thanks to You!).\n",
    "\n",
    "The Next Step would be to answer any queries the user may have.\n",
    "\n",
    "To do this, we define the function GetQuery() which returns the word as well as the number of results the user wants to see (as a tuple):"
   ]
  },
  {
   "cell_type": "code",
   "execution_count": 7,
   "metadata": {},
   "outputs": [],
   "source": [
    "#COMPLETE THE CODE FROM HERE:\n",
    "\n",
    "def GetQuery():\n",
    "   \n",
    "    word = input(\"Ask your query\")        #Get Input from the user regarding what word s/he wants to query for\n",
    "\n",
    "    Number = input(\"How many results you want\")      #Get Input from the user regarding how many results the user wants to see\n",
    "\n",
    "    return (word,Number)                 #Return as output a tuple of the word and the Number of results       "
   ]
  },
  {
   "cell_type": "markdown",
   "metadata": {},
   "source": [
    "Now, We need a function which takes as input the index of any particular word and prints the words surrounding it as if they were in an actual sentence.\n",
    "\n",
    "This is done by iterating over the words surrounding it, and printing them with gaps in between. We also assume that this occurence isn't a boundary case and thus, the 10 words surronding it actually exist."
   ]
  },
  {
   "cell_type": "code",
   "execution_count": 8,
   "metadata": {},
   "outputs": [],
   "source": [
    "def PrintContext(index):\n",
    "    \n",
    "    global Novel                          #Declares the list Novel as a Global Variable\n",
    "    \n",
    "    #COMPLETE THE CODE FROM HERE:\n",
    "    \n",
    "    for i in range(-5,5) :           #Define the range so that the task above is fulfilled\n",
    "        \n",
    "        print(i, end = ' ')          #Print the word (using List Indexing) with a space after that\n",
    "        \n",
    "    print('\\n')"
   ]
  },
  {
   "cell_type": "markdown",
   "metadata": {},
   "source": [
    "The result of the GetQuery() function will be passed into a second function which would take as input the word and the number of results to be displayed and do so!"
   ]
  },
  {
   "cell_type": "code",
   "execution_count": 9,
   "metadata": {},
   "outputs": [],
   "source": [
    "def PrintResult(word, NumQuery):\n",
    "  \n",
    "    global DictionaryOfWords                #Allows us to use the Dictionary as a global variable\n",
    "    \n",
    "    #COMPLETE THE CODE FROM HERE:\n",
    "    \n",
    "    L = DictionaryOfWords[key] \n",
    "    \n",
    "    for i in range(0,min(len(L),NumQuery)):\n",
    "        \n",
    "        PrintContext(i)             #Actually print the words surrounding the ith occurence of the given word\n",
    "        "
   ]
  },
  {
   "cell_type": "markdown",
   "metadata": {},
   "source": [
    "Finally, you need an infinite loop which runs until the user wants it to and asks for the next word (if the user wants to query more) or end the loop."
   ]
  },
  {
   "cell_type": "code",
   "execution_count": 16,
   "metadata": {},
   "outputs": [
    {
     "name": "stdout",
     "output_type": "stream",
     "text": [
      "Press Y in order to Continue with the next query or N to end./ Please press Enter after entering your choice!N\n"
     ]
    }
   ],
   "source": [
    "while 1>0 :   \n",
    "    \n",
    "    Choice = input('Press Y in order to Continue with the next query or N to end./ Please press Enter after entering your choice!')\n",
    "    \n",
    "    #COMPLETE THE CODE FROM HERE:\n",
    "    \n",
    "    if Choice== 'Y' :                     # If the user wants to query \n",
    "        \n",
    "        Nextquery=GetQuery()                       #Use some of the past defined function to do so\n",
    "        \n",
    "    else:\n",
    "        \n",
    "        break                                 #Else end the loop"
   ]
  },
  {
   "cell_type": "code",
   "execution_count": null,
   "metadata": {},
   "outputs": [],
   "source": []
  }
 ],
 "metadata": {
  "kernelspec": {
   "display_name": "Python 3",
   "language": "python",
   "name": "python3"
  },
  "language_info": {
   "codemirror_mode": {
    "name": "ipython",
    "version": 3
   },
   "file_extension": ".py",
   "mimetype": "text/x-python",
   "name": "python",
   "nbconvert_exporter": "python",
   "pygments_lexer": "ipython3",
   "version": "3.7.3"
  }
 },
 "nbformat": 4,
 "nbformat_minor": 2
}
